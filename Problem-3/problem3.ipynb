{
 "cells": [
  {
   "cell_type": "code",
   "execution_count": null,
   "id": "243ea480",
   "metadata": {},
   "outputs": [],
   "source": [
    "import numpy as np\n",
    "import pandas as pd\n",
    "import matplotlib.pyplot as plt\n",
    "from typing import List, Tuple, Dict\n",
    "import time\n",
    "import re\n",
    "\n",
    "class KnapsackInstance:\n",
    "    \"\"\"\n",
    "    Class to store knapsack probelm instance information.\n",
    "    \"\"\"\n",
    "\n",
    "    def __init__(self, name: str, num_items: int, \n",
    "                 num_knapsacks: int, capacities: List[int], profits: List[int], \n",
    "                 weights: np.ndarray, optimal_value: int = None):\n",
    "        \"\"\"\n",
    "        Initialize a knapsack instance.\n",
    "\n",
    "        Args:\n",
    "            name: Instance name/identifier\n",
    "            num_items: Number of items (n)\n",
    "            num_knapsacks: Nimer of kanpsacks \n",
    "            capacities: List of capacitycontraints for each knapsack \n",
    "            profits: Profit/value of each item\n",
    "            weigths: Weight matrix \n",
    "            oprimal_value: Know optimal value\n",
    "        \"\"\"\n",
    "        self.name = name\n",
    "        self.num_items = num_items\n",
    "        self.num_knapsacks = num_knapsacks\n",
    "        self.capacities = capacities\n",
    "        self.profits = profits\n",
    "        self.weights = weights\n",
    "        self.optimal_value = optimal_value\n",
    "\n"
   ]
  }
 ],
 "metadata": {
  "kernelspec": {
   "display_name": "in3050",
   "language": "python",
   "name": "python3"
  },
  "language_info": {
   "codemirror_mode": {
    "name": "ipython",
    "version": 3
   },
   "file_extension": ".py",
   "mimetype": "text/x-python",
   "name": "python",
   "nbconvert_exporter": "python",
   "pygments_lexer": "ipython3",
   "version": "3.12.9"
  }
 },
 "nbformat": 4,
 "nbformat_minor": 5
}
