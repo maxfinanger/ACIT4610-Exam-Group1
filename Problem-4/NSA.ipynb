{
 "cells": [
  {
   "cell_type": "markdown",
   "id": "850f5a7a-92f3-4c59-b324-f12d70afb02f",
   "metadata": {},
   "source": [
    "# NEGATIVE SELECTION ALGORITHM(NSA) FOR SPAM DETECTION"
   ]
  },
  {
   "cell_type": "markdown",
   "id": "ff299a52-90b5-4bda-bd5b-2281eca6f58d",
   "metadata": {},
   "source": [
    "## Imports"
   ]
  },
  {
   "cell_type": "code",
   "execution_count": 8,
   "id": "1f81e302-ed9e-490d-93c4-25707db96722",
   "metadata": {},
   "outputs": [
    {
     "name": "stderr",
     "output_type": "stream",
     "text": [
      "[nltk_data] Downloading package stopwords to /home/fbb/nltk_data...\n",
      "[nltk_data]   Package stopwords is already up-to-date!\n"
     ]
    }
   ],
   "source": [
    "import string\n",
    "import nltk\n",
    "import random\n",
    "import abc\n",
    "\n",
    "nltk.download('stopwords')\n",
    "\n",
    "stop_words = set(nltk.corpus.stopwords.words('english'))"
   ]
  },
  {
   "cell_type": "markdown",
   "id": "ff33e113-6080-4673-abf2-8d81a6ac2da9",
   "metadata": {},
   "source": [
    "## Start with the data extraction"
   ]
  },
  {
   "cell_type": "code",
   "execution_count": 2,
   "id": "24d71f82-dca0-4758-bd3c-a081bd9d7229",
   "metadata": {},
   "outputs": [],
   "source": [
    "def data_extraction(file_path=\"Data/SMSSpamCollection\"):\n",
    "    \"\"\"\n",
    "    Given a filepath, extract the data within the file\n",
    "    \"\"\"\n",
    "    try:\n",
    "        with open(file_path, 'r', encoding='utf-8') as f:\n",
    "            data = [line.strip() for line in f]\n",
    "            return data\n",
    "    except FileNotFoundError:\n",
    "        print(f\"ERROR: File not found at {filepath}\")\n",
    "        return []"
   ]
  },
  {
   "cell_type": "code",
   "execution_count": 3,
   "id": "059d4ff6-a151-4414-b5ee-237ebf4e222c",
   "metadata": {},
   "outputs": [],
   "source": [
    "def data_processing(data, stop_words):\n",
    "    \"\"\"\n",
    "    Given the data, return tuple of data and label\n",
    "    \"\"\"\n",
    "    finished_data =[]\n",
    "    for sms in data:\n",
    "        label, text = sms.split(\"\\t\")\n",
    "        text = text.lower()\n",
    "        text = text.translate(str.maketrans('', '', string.punctuation))\n",
    "        text = text.replace('\\x92', \"'\")\n",
    "        words = text.split()\n",
    "        words = [word for word in words if word not in stop_words]\n",
    "        text = \" \".join(words)\n",
    "        finished_data.append((label, text))\n",
    "    return finished_data"
   ]
  },
  {
   "cell_type": "code",
   "execution_count": 4,
   "id": "cc33a225-7329-4ddb-955b-61050709c5f8",
   "metadata": {},
   "outputs": [
    {
     "name": "stdout",
     "output_type": "stream",
     "text": [
      "ham\tGo until jurong point, crazy.. Available only in bugis n great world la e buffet... Cine there got amore wat...\n",
      "ham\tOk lar... Joking wif u oni...\n",
      "('ham', 'go jurong point crazy available bugis n great world la e buffet cine got amore wat')\n",
      "('ham', 'ok lar joking wif u oni')\n",
      "[('ham', 'go jurong point crazy available bugis n great world la e buffet cine got amore wat'), ('ham', 'ok lar joking wif u oni'), ('spam', 'free entry 2 wkly comp win fa cup final tkts 21st may 2005 text fa 87121 receive entry questionstd txt ratetcs apply 08452810075over18s'), ('ham', 'u dun say early hor u c already say'), ('ham', 'nah dont think goes usf lives around though'), ('spam', 'freemsg hey darling 3 weeks word back id like fun still tb ok xxx std chgs send £150 rcv'), ('ham', 'even brother like speak treat like aids patent'), ('ham', 'per request melle melle oru minnaminunginte nurungu vettam set callertune callers press 9 copy friends callertune'), ('spam', 'winner valued network customer selected receivea £900 prize reward claim call 09061701461 claim code kl341 valid 12 hours'), ('spam', 'mobile 11 months u r entitled update latest colour mobiles camera free call mobile update co free 08002986030'), ('ham', 'im gonna home soon dont want talk stuff anymore tonight k ive cried enough today'), ('spam', 'six chances win cash 100 20000 pounds txt csh11 send 87575 cost 150pday 6days 16 tsandcs apply reply hl 4 info'), ('spam', 'urgent 1 week free membership £100000 prize jackpot txt word claim 81010 tc wwwdbuknet lccltd pobox 4403ldnw1a7rw18'), ('ham', 'ive searching right words thank breather promise wont take help granted fulfil promise wonderful blessing times'), ('ham', 'date sunday'), ('spam', 'xxxmobilemovieclub use credit click wap link next txt message click httpwap xxxmobilemovieclubcomnqjkgighjjgcbl'), ('ham', 'oh kim watching'), ('ham', 'eh u remember 2 spell name yes v naughty make v wet'), ('ham', \"fine that's way u feel that's way gota b\"), ('spam', 'england v macedonia dont miss goalsteam news txt ur national team 87077 eg england 87077 trywales scotland 4txtú120 poboxox36504w45wq 16')]\n"
     ]
    }
   ],
   "source": [
    "file_path = \"Data/SMSSpamCollection\"\n",
    "\n",
    "data = data_extraction(file_path)\n",
    "print(data[0])\n",
    "print(data[1])\n",
    "\n",
    "data = data_processing(data, stop_words)\n",
    "print(data[0])\n",
    "print(data[1])\n",
    "#print(data[0:20])"
   ]
  },
  {
   "cell_type": "markdown",
   "id": "b07d2d9b-9329-46f4-9cec-adaa2e8a5dad",
   "metadata": {},
   "source": [
    "## Get some statistics"
   ]
  },
  {
   "cell_type": "code",
   "execution_count": 5,
   "id": "533e91fd-1b94-49c0-90cf-c02d0eb0a282",
   "metadata": {},
   "outputs": [
    {
     "name": "stdout",
     "output_type": "stream",
     "text": [
      "The data contains 747 spam messages\n",
      "The data contains 4827 harmless messages\n"
     ]
    }
   ],
   "source": [
    "count_of_spam = 0\n",
    "for label, _ in data:\n",
    "    if label == 'spam':\n",
    "        count_of_spam += 1\n",
    "count_of_ham = len(data) - count_of_spam\n",
    "\n",
    "print(f\"The data contains {count_of_spam} spam messages\")\n",
    "print(f\"The data contains {count_of_ham} harmless messages\")"
   ]
  },
  {
   "cell_type": "markdown",
   "id": "c3a4595a-3f8f-4b7b-95e4-899de8f752ea",
   "metadata": {},
   "source": [
    "## The NSA Class"
   ]
  },
  {
   "cell_type": "markdown",
   "id": "3867a909-d71e-40b3-9497-06db405f811e",
   "metadata": {},
   "source": [
    "The basic idea is to create a detector based only on the self, so the strings which are not harmful. So the detector is trained on random strings, which are matched against the 'ham' labeled data. "
   ]
  },
  {
   "cell_type": "markdown",
   "id": "bcb086f6-0e5a-4b32-8719-88da5f9ec87e",
   "metadata": {},
   "source": [
    "### The abstract class"
   ]
  },
  {
   "cell_type": "code",
   "execution_count": 12,
   "id": "d9e67e67-a8a9-4b9b-9908-e1469ae380c6",
   "metadata": {},
   "outputs": [],
   "source": [
    "class NSA(abc.ABC):\n",
    "\n",
    "    @abc.abstractmethod\n",
    "    def encode(self):\n",
    "        pass\n",
    "\n",
    "    @abc.abstractmethod\n",
    "    def generate_detectors(self):\n",
    "        pass\n",
    "\n",
    "    @abc.abstractmethod\n",
    "    def run(self):\n",
    "        pass\n",
    "\n",
    "    @abc.abstractmethod\n",
    "    def detect_with_detectors(self):\n",
    "        pass"
   ]
  },
  {
   "cell_type": "markdown",
   "id": "8f9a4c91-6c3a-421e-8e0c-4e10aff197d8",
   "metadata": {},
   "source": [
    "### K-Grams "
   ]
  },
  {
   "cell_type": "code",
   "execution_count": 18,
   "id": "f85838ef-567b-4e86-8102-1051ad447250",
   "metadata": {},
   "outputs": [],
   "source": [
    "class k_gram_NSA(NSA):\n",
    "\n",
    "    def __init__(self, r):\n",
    "        self.r = r\n",
    "\n",
    "    def encode(self, data):\n",
    "        k_grams = set()\n",
    "        for label, sms in data:\n",
    "            if label == 'spam':\n",
    "                continue\n",
    "            if len(sms) < self.r:\n",
    "                continue\n",
    "            for i in range(len(sms) - self.r + 1):\n",
    "                k_grams.add(sms[i:i+self.r])\n",
    "        return k_grams\n",
    "\n",
    "    def random_string(self, alphabet):\n",
    "        return ''.join(random.choice(alphabet) for _ in range(self.r))\n",
    "\n",
    "    def generate_detectors(self, k_grams, num_detectors, alphabet=None, max_iters=1000):\n",
    "        if alphabet == None:\n",
    "            alphabet = string.ascii_lowercase + string.digits\n",
    "        detectors = set()\n",
    "        iters = 0\n",
    "        while len(detectors) < num_detectors and iters < max_iters:\n",
    "            iters += 1\n",
    "            cand = self.random_string(alphabet)\n",
    "            if cand not in k_grams:\n",
    "                detectors.add(cand)\n",
    "        if len(detectors) < num_detectors:\n",
    "            print(\"Warning: could only generate\", len(detectors), \"detectors after\", iters, \"iters.\")\n",
    "        return list(detectors)\n",
    "\n",
    "    def detect_with_detectors(self, message, detectors):\n",
    "        for d in detectors:\n",
    "            if d in message:\n",
    "                return True, d\n",
    "        return (False, None)    \n",
    "\n",
    "    def run(self, data):\n",
    "        k_grams = self.encode(data)\n",
    "        detectors = self.generate_detectors(k_grams,5000, max_iters=10000)\n",
    "        anomalies = []\n",
    "        for label, sms in data:\n",
    "            anomalies.append((label, self.detect_with_detectors(sms, detectors)))\n",
    "        return anomalies"
   ]
  },
  {
   "cell_type": "markdown",
   "id": "64ed2b79-07e1-479c-899c-f04e3d224716",
   "metadata": {},
   "source": [
    "### K-Grams with binary encoding"
   ]
  },
  {
   "cell_type": "code",
   "execution_count": null,
   "id": "3d6a8d69-6adc-460f-a4a3-9aed8f0bbacf",
   "metadata": {},
   "outputs": [],
   "source": [
    "#### TO BE IMPLEMENTED"
   ]
  },
  {
   "cell_type": "markdown",
   "id": "6f315809-1a19-45f3-9acf-4b9af1caadb6",
   "metadata": {},
   "source": [
    "### Model Statistics"
   ]
  },
  {
   "cell_type": "code",
   "execution_count": 16,
   "id": "272ef21c-0fcf-475b-b9ec-d86994d118ce",
   "metadata": {},
   "outputs": [],
   "source": [
    "def model_stats(results):\n",
    "    pred_count = 0\n",
    "    TP = 0\n",
    "    FP = 0\n",
    "    TN = 0\n",
    "    FN = 0\n",
    "    for result in results:\n",
    "        label, pred = result\n",
    "        if pred[0]:\n",
    "            pred_count += 1\n",
    "            if label == 'spam':\n",
    "                TP += 1\n",
    "            else:\n",
    "                FP += 1\n",
    "        if not pred[0]:\n",
    "            if label == 'spam':\n",
    "                FN += 1\n",
    "            else:\n",
    "                TN += 1\n",
    "    print(f\"Count of predicted Anomalies: {pred_count}\")\n",
    "    print(f\"Count of True Positives: {TP}\")\n",
    "    print(f\"Count of False Positives: {FP}\")\n",
    "    print(f\"Count of True Negatives: {TN}\")\n",
    "    print(f\"Count of False Negatives: {FN}\")\n",
    "\n",
    "    print(f\"Accuracy: {(TP + TN) / len(results)}\")\n",
    "    print(f\"Precision: {TP / (TP + FP)}\")\n",
    "    print(f\"Recall: {TP / (TP + FN) }\")\n",
    "    print(f\"F1-Score: {2 * ((TP / (TP + FP)) * (TP / (TP + FN)) / (TP / (TP + FP)) + (TP / (TP + FN)))}\")"
   ]
  },
  {
   "cell_type": "code",
   "execution_count": 23,
   "id": "a1f3ae31-e053-4d57-8e01-46dd7b9078a1",
   "metadata": {},
   "outputs": [
    {
     "name": "stdout",
     "output_type": "stream",
     "text": [
      "Running K-Grams NSA with r = 2\n",
      "Warning: could only generate 507 detectors after 10000 iters.\n",
      "Count of predicted Anomalies: 631\n",
      "Count of True Positives: 631\n",
      "Count of False Positives: 0\n",
      "Count of True Negatives: 4827\n",
      "Count of False Negatives: 116\n",
      "Accuracy: 0.97918909221385\n",
      "Precision: 1.0\n",
      "Recall: 0.8447121820615796\n",
      "F1-Score: 3.3788487282463184\n",
      "Running K-Grams NSA with r = 3\n",
      "Count of predicted Anomalies: 520\n",
      "Count of True Positives: 520\n",
      "Count of False Positives: 0\n",
      "Count of True Negatives: 4827\n",
      "Count of False Negatives: 227\n",
      "Accuracy: 0.959275206315034\n",
      "Precision: 1.0\n",
      "Recall: 0.6961178045515395\n",
      "F1-Score: 2.784471218206158\n",
      "Running K-Grams NSA with r = 4\n",
      "Count of predicted Anomalies: 21\n",
      "Count of True Positives: 21\n",
      "Count of False Positives: 0\n",
      "Count of True Negatives: 4827\n",
      "Count of False Negatives: 726\n",
      "Accuracy: 0.8697524219590959\n",
      "Precision: 1.0\n",
      "Recall: 0.028112449799196786\n",
      "F1-Score: 0.11244979919678715\n"
     ]
    }
   ],
   "source": [
    "r_range = range(2,5)\n",
    "\n",
    "for i in r_range:\n",
    "    print(f\"Running K-Grams NSA with r = {i}\")\n",
    "    k_grams_nsa = k_gram_NSA(i)\n",
    "    model_stats(k_grams_nsa.run(data))"
   ]
  }
 ],
 "metadata": {
  "kernelspec": {
   "display_name": "Python 3 (ipykernel)",
   "language": "python",
   "name": "python3"
  },
  "language_info": {
   "codemirror_mode": {
    "name": "ipython",
    "version": 3
   },
   "file_extension": ".py",
   "mimetype": "text/x-python",
   "name": "python",
   "nbconvert_exporter": "python",
   "pygments_lexer": "ipython3",
   "version": "3.13.7"
  }
 },
 "nbformat": 4,
 "nbformat_minor": 5
}
