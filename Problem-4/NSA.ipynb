{
 "cells": [
  {
   "cell_type": "markdown",
   "id": "850f5a7a-92f3-4c59-b324-f12d70afb02f",
   "metadata": {},
   "source": [
    "# NEGATIVE SELECTION ALGORITHM(NSA) FOR SPAM DETECTION"
   ]
  },
  {
   "cell_type": "markdown",
   "id": "ff299a52-90b5-4bda-bd5b-2281eca6f58d",
   "metadata": {},
   "source": [
    "## Imports"
   ]
  },
  {
   "cell_type": "code",
   "execution_count": 8,
   "id": "1f81e302-ed9e-490d-93c4-25707db96722",
   "metadata": {},
   "outputs": [
    {
     "name": "stderr",
     "output_type": "stream",
     "text": [
      "[nltk_data] Downloading package stopwords to /home/fbb/nltk_data...\n",
      "[nltk_data]   Package stopwords is already up-to-date!\n"
     ]
    }
   ],
   "source": [
    "import string\n",
    "import nltk\n",
    "\n",
    "nltk.download('stopwords')\n",
    "\n",
    "stop_words = set(nltk.corpus.stopwords.words('english'))"
   ]
  },
  {
   "cell_type": "markdown",
   "id": "ff33e113-6080-4673-abf2-8d81a6ac2da9",
   "metadata": {},
   "source": [
    "## Start with the data extraction"
   ]
  },
  {
   "cell_type": "code",
   "execution_count": 2,
   "id": "24d71f82-dca0-4758-bd3c-a081bd9d7229",
   "metadata": {},
   "outputs": [],
   "source": [
    "def data_extraction(file_path=\"Data/SMSSpamCollection\"):\n",
    "    \"\"\"\n",
    "    Given a filepath, extract the data within the file\n",
    "    \"\"\"\n",
    "    try:\n",
    "        with open(file_path, 'r') as f:\n",
    "            data = [line.strip() for line in f]\n",
    "            return data\n",
    "    except FileNotFoundError:\n",
    "        print(f\"ERROR: File not found at {filepath}\")\n",
    "        return []"
   ]
  },
  {
   "cell_type": "code",
   "execution_count": 10,
   "id": "059d4ff6-a151-4414-b5ee-237ebf4e222c",
   "metadata": {},
   "outputs": [],
   "source": [
    "def data_processing(data, stop_words):\n",
    "    \"\"\"\n",
    "    Given the data, return tuple of data and label\n",
    "    \"\"\"\n",
    "    finished_data =[]\n",
    "    for sms in data:\n",
    "        label, text = sms.split(\"\\t\")\n",
    "        text = text.lower()\n",
    "        text = text.translate(str.maketrans('', '', string.punctuation))\n",
    "        words = text.split()\n",
    "        words = [word for word in words if word not in stop_words]\n",
    "        text = \" \".join(words)\n",
    "        finished_data.append((label, text))\n",
    "    return finished_data"
   ]
  },
  {
   "cell_type": "code",
   "execution_count": 11,
   "id": "cc33a225-7329-4ddb-955b-61050709c5f8",
   "metadata": {},
   "outputs": [
    {
     "name": "stdout",
     "output_type": "stream",
     "text": [
      "ham\tGo until jurong point, crazy.. Available only in bugis n great world la e buffet... Cine there got amore wat...\n",
      "ham\tOk lar... Joking wif u oni...\n",
      "('ham', 'go jurong point crazy available bugis n great world la e buffet cine got amore wat')\n",
      "('ham', 'ok lar joking wif u oni')\n"
     ]
    }
   ],
   "source": [
    "file_path = \"Data/SMSSpamCollection\"\n",
    "\n",
    "data = data_extraction(file_path)\n",
    "print(data[0])\n",
    "print(data[1])\n",
    "\n",
    "data = data_processing(data, stop_words)\n",
    "print(data[0])\n",
    "print(data[1])"
   ]
  },
  {
   "cell_type": "code",
   "execution_count": 12,
   "id": "4faf75fc-3e6f-416a-853a-91879dc623db",
   "metadata": {},
   "outputs": [
    {
     "name": "stdout",
     "output_type": "stream",
     "text": [
      "516\n"
     ]
    }
   ],
   "source": [
    "max_str_len = 0\n",
    "for string in data:\n",
    "    str_len = len(string[1])\n",
    "    if str_len > max_str_len:\n",
    "        max_str_len = str_len\n",
    "print(max_str_len)"
   ]
  },
  {
   "cell_type": "markdown",
   "id": "c3a4595a-3f8f-4b7b-95e4-899de8f752ea",
   "metadata": {},
   "source": [
    "## The NSA Class"
   ]
  },
  {
   "cell_type": "markdown",
   "id": "3867a909-d71e-40b3-9497-06db405f811e",
   "metadata": {},
   "source": [
    "The basic idea is to create a detector based only on the self, so the strings which are not harmful. So the detector is trained on random strings, which are matched against the 'ham' labeled data. "
   ]
  }
 ],
 "metadata": {
  "kernelspec": {
   "display_name": "Python 3 (ipykernel)",
   "language": "python",
   "name": "python3"
  },
  "language_info": {
   "codemirror_mode": {
    "name": "ipython",
    "version": 3
   },
   "file_extension": ".py",
   "mimetype": "text/x-python",
   "name": "python",
   "nbconvert_exporter": "python",
   "pygments_lexer": "ipython3",
   "version": "3.13.7"
  }
 },
 "nbformat": 4,
 "nbformat_minor": 5
}
